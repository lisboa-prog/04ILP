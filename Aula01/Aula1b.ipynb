{
 "cells": [
  {
   "cell_type": "code",
   "execution_count": 3,
   "metadata": {},
   "outputs": [
    {
     "name": "stdout",
     "output_type": "stream",
     "text": [
      "3\n",
      "2\n"
     ]
    }
   ],
   "source": [
    "# Criar variavel qtde_alfaces e atribui o valor 3 a ela\n",
    "qdte_alfaces = 3\n",
    "# Imprime valor da variavel qtde_alfaces\n",
    "print(qdte_alfaces)\n",
    "# Criar variavel qtde_alfaces e atribui o valor 2 a ela\n",
    "qdte_alfaces = 2\n",
    "# Imprime valor da variavel qtde_alfaces\n",
    "print(qdte_alfaces)\n"
   ]
  },
  {
   "cell_type": "code",
   "execution_count": 6,
   "metadata": {},
   "outputs": [
    {
     "name": "stdout",
     "output_type": "stream",
     "text": [
      "1.5 Kg\n",
      "1.5 Kg\n"
     ]
    }
   ],
   "source": [
    "# Cria variavel tanto_de_peixe float (ou double) e atribui 1.5 a ela \n",
    "tanto_de_peixe = 1.5\n",
    "print(tanto_de_peixe, 'Kg')\n",
    "# Cria variavel tanto_de_peixe float (ou double) e atribui 2.5 a ela \n",
    "tanto_de_peixe = 1.5\n",
    "print(tanto_de_peixe, 'Kg')"
   ]
  },
  {
   "cell_type": "code",
   "execution_count": 8,
   "metadata": {},
   "outputs": [
    {
     "name": "stdout",
     "output_type": "stream",
     "text": [
      "True\n",
      "False\n"
     ]
    }
   ],
   "source": [
    "vai_chover = True\n",
    "print(vai_chover)\n",
    "vai_chover = False\n",
    "print(vai_chover)"
   ]
  },
  {
   "cell_type": "code",
   "execution_count": 12,
   "metadata": {},
   "outputs": [
    {
     "name": "stdout",
     "output_type": "stream",
     "text": [
      "Zé das couve\n",
      "José das couve\n",
      "xY-9*=oikl- tw&\n"
     ]
    }
   ],
   "source": [
    "nome_cliente = \"Zé das couve\"\n",
    "print(nome_cliente)\n",
    "nome_cliente = \"José das couve\"\n",
    "print(nome_cliente)\n",
    "senha_cliente = \"xY-9*=oikl- tw&\"\n",
    "print(senha_cliente)"
   ]
  },
  {
   "cell_type": "code",
   "execution_count": null,
   "metadata": {},
   "outputs": [],
   "source": [
    "camel_case = ''\n",
    "PascalCase = ''\n",
    "snake_case = ''"
   ]
  }
 ],
 "metadata": {
  "kernelspec": {
   "display_name": "base",
   "language": "python",
   "name": "python3"
  },
  "language_info": {
   "codemirror_mode": {
    "name": "ipython",
    "version": 3
   },
   "file_extension": ".py",
   "mimetype": "text/x-python",
   "name": "python",
   "nbconvert_exporter": "python",
   "pygments_lexer": "ipython3",
   "version": "3.10.13"
  },
  "orig_nbformat": 4
 },
 "nbformat": 4,
 "nbformat_minor": 2
}

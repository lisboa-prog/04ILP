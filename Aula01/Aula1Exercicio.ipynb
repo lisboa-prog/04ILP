{
 "cells": [
  {
   "cell_type": "code",
   "execution_count": 13,
   "metadata": {},
   "outputs": [
    {
     "name": "stdout",
     "output_type": "stream",
     "text": [
      "  Dados do Cliente  \n",
      "\n",
      " nome:  David Lisboa \n",
      " telefone:  92991045587 \n",
      " endereço:  cep 69089246, Rua Rio Tumia, 26 \n",
      " idade:  32 \n",
      " saldo:  25.7 \n",
      " status_cliete:  True\n"
     ]
    }
   ],
   "source": [
    "nome_cliete = \"David Lisboa\"\n",
    "telefone_cliete = \"92991045587\"\n",
    "endereco_cliete = \"cep 69089246, Rua Rio Tumia, 26\"\n",
    "idade_cliete = 32\n",
    "saldo_atual_cliete = 25.70\n",
    "status_cliete = True\n",
    "\n",
    "print('  Dados do Cliente  \\n\\n','nome: ', nome_cliete, '\\n telefone: ', telefone_cliete, '\\n endereço: ', endereco_cliete, '\\n idade: ', idade_cliete, '\\n saldo: ', saldo_atual_cliete, '\\n status_cliete: ',status_cliete )"
   ]
  }
 ],
 "metadata": {
  "kernelspec": {
   "display_name": "base",
   "language": "python",
   "name": "python3"
  },
  "language_info": {
   "codemirror_mode": {
    "name": "ipython",
    "version": 3
   },
   "file_extension": ".py",
   "mimetype": "text/x-python",
   "name": "python",
   "nbconvert_exporter": "python",
   "pygments_lexer": "ipython3",
   "version": "3.10.13"
  },
  "orig_nbformat": 4
 },
 "nbformat": 4,
 "nbformat_minor": 2
}
